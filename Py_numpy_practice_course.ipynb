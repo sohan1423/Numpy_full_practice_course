{
  "nbformat": 4,
  "nbformat_minor": 0,
  "metadata": {
    "colab": {
      "provenance": [],
      "authorship_tag": "ABX9TyNdPVr5iylyuCgF/FSLL53K",
      "include_colab_link": true
    },
    "kernelspec": {
      "name": "python3",
      "display_name": "Python 3"
    },
    "language_info": {
      "name": "python"
    }
  },
  "cells": [
    {
      "cell_type": "markdown",
      "metadata": {
        "id": "view-in-github",
        "colab_type": "text"
      },
      "source": [
        "<a href=\"https://colab.research.google.com/github/sohan1423/Numpy_full_practice_course/blob/main/Py_numpy_practice_course.ipynb\" target=\"_parent\"><img src=\"https://colab.research.google.com/assets/colab-badge.svg\" alt=\"Open In Colab\"/></a>"
      ]
    },
    {
      "cell_type": "code",
      "execution_count": 106,
      "metadata": {
        "id": "DIe-1Tr78Nck"
      },
      "outputs": [],
      "source": [
        "import numpy as np\n"
      ]
    },
    {
      "cell_type": "code",
      "source": [
        "np.array([1,3])"
      ],
      "metadata": {
        "colab": {
          "base_uri": "https://localhost:8080/"
        },
        "id": "f7rqjhvDA_6Z",
        "outputId": "b302b9fe-b5f6-40d8-f18c-8a12774a4f41"
      },
      "execution_count": 107,
      "outputs": [
        {
          "output_type": "execute_result",
          "data": {
            "text/plain": [
              "array([1, 3])"
            ]
          },
          "metadata": {},
          "execution_count": 107
        }
      ]
    },
    {
      "cell_type": "markdown",
      "source": [
        "#Dimention"
      ],
      "metadata": {
        "id": "QKoEkjTFB7oM"
      }
    },
    {
      "cell_type": "code",
      "source": [
        "\n",
        "arr = np.array([[[]]])\n",
        "arr.ndim\n",
        "arr.shape"
      ],
      "metadata": {
        "colab": {
          "base_uri": "https://localhost:8080/"
        },
        "id": "LW0cb53IB7KU",
        "outputId": "99a0da3f-a9ab-4430-8e58-cc3cd13fa59d"
      },
      "execution_count": 108,
      "outputs": [
        {
          "output_type": "execute_result",
          "data": {
            "text/plain": [
              "(1, 1, 0)"
            ]
          },
          "metadata": {},
          "execution_count": 108
        }
      ]
    },
    {
      "cell_type": "code",
      "source": [
        "range = np.arange(1,10,2)  # start , stop, step\n",
        "range"
      ],
      "metadata": {
        "colab": {
          "base_uri": "https://localhost:8080/"
        },
        "id": "_s8ye9b2CMD8",
        "outputId": "8f5b9dd1-0566-4153-b19e-098987f072a5"
      },
      "execution_count": 109,
      "outputs": [
        {
          "output_type": "execute_result",
          "data": {
            "text/plain": [
              "array([1, 3, 5, 7, 9])"
            ]
          },
          "metadata": {},
          "execution_count": 109
        }
      ]
    },
    {
      "cell_type": "code",
      "source": [
        "arr = np.linspace(0,2,5)   #start, stop , num of value between start and stop\n",
        "arr"
      ],
      "metadata": {
        "colab": {
          "base_uri": "https://localhost:8080/"
        },
        "id": "2nYD22NUDwTL",
        "outputId": "d99a14c8-a77c-4f54-8676-d3c97184cca0"
      },
      "execution_count": 110,
      "outputs": [
        {
          "output_type": "execute_result",
          "data": {
            "text/plain": [
              "array([0. , 0.5, 1. , 1.5, 2. ])"
            ]
          },
          "metadata": {},
          "execution_count": 110
        }
      ]
    },
    {
      "cell_type": "code",
      "source": [
        "arr = np.logspace(1,3,4)  #logarithomic ---10^1  to 10^3 ----between 4 points\n",
        "arr"
      ],
      "metadata": {
        "colab": {
          "base_uri": "https://localhost:8080/"
        },
        "id": "GS3mh5iKEGRC",
        "outputId": "b65d78de-5e47-4b74-976c-ddf8caf90c01"
      },
      "execution_count": 111,
      "outputs": [
        {
          "output_type": "execute_result",
          "data": {
            "text/plain": [
              "array([  10.        ,   46.41588834,  215.443469  , 1000.        ])"
            ]
          },
          "metadata": {},
          "execution_count": 111
        }
      ]
    },
    {
      "cell_type": "code",
      "source": [
        "arr = np.zeros(5)  # print num of zero in array which I want\n",
        "arr"
      ],
      "metadata": {
        "colab": {
          "base_uri": "https://localhost:8080/"
        },
        "id": "hsDfGSezE23K",
        "outputId": "4677a58b-15c7-4e8e-b798-578b0578dce1"
      },
      "execution_count": 112,
      "outputs": [
        {
          "output_type": "execute_result",
          "data": {
            "text/plain": [
              "array([0., 0., 0., 0., 0.])"
            ]
          },
          "metadata": {},
          "execution_count": 112
        }
      ]
    },
    {
      "cell_type": "code",
      "source": [
        "arr = np.zeros([2,3])\n",
        "arr"
      ],
      "metadata": {
        "colab": {
          "base_uri": "https://localhost:8080/"
        },
        "id": "tDyx_qA9F2-J",
        "outputId": "d5b047e1-6b00-4996-dba2-2e5944425bcb"
      },
      "execution_count": 113,
      "outputs": [
        {
          "output_type": "execute_result",
          "data": {
            "text/plain": [
              "array([[0., 0., 0.],\n",
              "       [0., 0., 0.]])"
            ]
          },
          "metadata": {},
          "execution_count": 113
        }
      ]
    },
    {
      "cell_type": "code",
      "source": [
        "arr = np.ones([3,3])\n",
        "arr"
      ],
      "metadata": {
        "colab": {
          "base_uri": "https://localhost:8080/"
        },
        "id": "DZVPpggfKJEy",
        "outputId": "7fbf9933-8449-44b9-f9de-13ec3d85ef82"
      },
      "execution_count": 114,
      "outputs": [
        {
          "output_type": "execute_result",
          "data": {
            "text/plain": [
              "array([[1., 1., 1.],\n",
              "       [1., 1., 1.],\n",
              "       [1., 1., 1.]])"
            ]
          },
          "metadata": {},
          "execution_count": 114
        }
      ]
    },
    {
      "cell_type": "code",
      "source": [
        "arr = np.full([2,4],4)  #(dim [], value )\n",
        "arr"
      ],
      "metadata": {
        "colab": {
          "base_uri": "https://localhost:8080/"
        },
        "id": "s-jL9fUWKnVd",
        "outputId": "aa32ff3b-fdef-4a29-bea9-5e3e2f9f84f8"
      },
      "execution_count": 115,
      "outputs": [
        {
          "output_type": "execute_result",
          "data": {
            "text/plain": [
              "array([[4, 4, 4, 4],\n",
              "       [4, 4, 4, 4]])"
            ]
          },
          "metadata": {},
          "execution_count": 115
        }
      ]
    },
    {
      "cell_type": "code",
      "source": [
        "arr = np.random.rand(2,3) # create random value using dim --no need square baraket\n",
        "arr"
      ],
      "metadata": {
        "colab": {
          "base_uri": "https://localhost:8080/"
        },
        "id": "RiAjCkRsL-6c",
        "outputId": "3bfbc6f6-5ae2-4693-afc5-4f39d3b93eba"
      },
      "execution_count": 116,
      "outputs": [
        {
          "output_type": "execute_result",
          "data": {
            "text/plain": [
              "array([[0.74278959, 0.91805916, 0.51288081],\n",
              "       [0.99835521, 0.64076662, 0.00120129]])"
            ]
          },
          "metadata": {},
          "execution_count": 116
        }
      ]
    },
    {
      "cell_type": "code",
      "source": [
        "arr = np.random.randn(2,3)  # also take neg value\n",
        "arr"
      ],
      "metadata": {
        "colab": {
          "base_uri": "https://localhost:8080/"
        },
        "id": "AXDXIJNSMksT",
        "outputId": "8af1f01c-c799-45bd-c8d3-29d0e7a3c2c4"
      },
      "execution_count": 117,
      "outputs": [
        {
          "output_type": "execute_result",
          "data": {
            "text/plain": [
              "array([[-0.50313334,  0.80242188,  0.58325167],\n",
              "       [ 0.81393536,  0.92173534,  1.62507438]])"
            ]
          },
          "metadata": {},
          "execution_count": 117
        }
      ]
    },
    {
      "cell_type": "code",
      "source": [
        "arr = np.random.randint(10,89, (2,4)) # random int-------->basically range (start , stop) -----size means dim\n",
        "arr"
      ],
      "metadata": {
        "colab": {
          "base_uri": "https://localhost:8080/"
        },
        "id": "gBldA0VhNcDS",
        "outputId": "98901617-bb36-4f1c-af4c-a447e78eee51"
      },
      "execution_count": 118,
      "outputs": [
        {
          "output_type": "execute_result",
          "data": {
            "text/plain": [
              "array([[20, 32, 18, 36],\n",
              "       [42, 74, 88, 57]])"
            ]
          },
          "metadata": {},
          "execution_count": 118
        }
      ]
    },
    {
      "cell_type": "code",
      "source": [
        "arr = np.array([\n",
        "                  [1,3,2],\n",
        "                  [3,5,7],\n",
        "                  [3,5,8]\n",
        "                ])\n",
        "print(\"Here the matrix\")\n",
        "print(arr)  # if I write print that erase the array write which wrote the sytem by default"
      ],
      "metadata": {
        "colab": {
          "base_uri": "https://localhost:8080/"
        },
        "id": "HTuIc1WjRftC",
        "outputId": "bfe45603-fd7f-45a9-f0f4-ca23f11a3d55"
      },
      "execution_count": 119,
      "outputs": [
        {
          "output_type": "stream",
          "name": "stdout",
          "text": [
            "Here the matrix\n",
            "[[1 3 2]\n",
            " [3 5 7]\n",
            " [3 5 8]]\n"
          ]
        }
      ]
    },
    {
      "cell_type": "markdown",
      "source": [
        "#data type and type casting"
      ],
      "metadata": {
        "id": "cXFDGP7RPJQi"
      }
    },
    {
      "cell_type": "markdown",
      "source": [
        "# we can't convert string to int or float its called casting error"
      ],
      "metadata": {
        "id": "f_ibRzYxCEKt"
      }
    },
    {
      "cell_type": "code",
      "source": [
        "arr = np.array([1,3,3,4])\n",
        "arr.dtype"
      ],
      "metadata": {
        "colab": {
          "base_uri": "https://localhost:8080/"
        },
        "id": "rWUj8Guf_nnI",
        "outputId": "897e784b-ccea-4d87-cac9-cb39b94263a8"
      },
      "execution_count": 120,
      "outputs": [
        {
          "output_type": "execute_result",
          "data": {
            "text/plain": [
              "dtype('int64')"
            ]
          },
          "metadata": {},
          "execution_count": 120
        }
      ]
    },
    {
      "cell_type": "code",
      "source": [
        "arr = np.array([1,3,3,4], dtype = np.float64)\n",
        "arr.dtype"
      ],
      "metadata": {
        "colab": {
          "base_uri": "https://localhost:8080/"
        },
        "id": "Aaobn4oQAKym",
        "outputId": "b45dcec4-ac77-4a19-d92a-c6132e365744"
      },
      "execution_count": 121,
      "outputs": [
        {
          "output_type": "execute_result",
          "data": {
            "text/plain": [
              "dtype('float64')"
            ]
          },
          "metadata": {},
          "execution_count": 121
        }
      ]
    },
    {
      "cell_type": "code",
      "source": [
        "# ----->type casting====> astype()\n",
        "\n",
        "arr = np.array([1,3,4])\n",
        "arr.dtype"
      ],
      "metadata": {
        "colab": {
          "base_uri": "https://localhost:8080/"
        },
        "id": "87G6QY-fAWKu",
        "outputId": "69ad308d-af81-4f0c-c0ec-5b9a54740d23"
      },
      "execution_count": 122,
      "outputs": [
        {
          "output_type": "execute_result",
          "data": {
            "text/plain": [
              "dtype('int64')"
            ]
          },
          "metadata": {},
          "execution_count": 122
        }
      ]
    },
    {
      "cell_type": "code",
      "source": [
        "new_arr = arr.astype(np.float64)\n",
        "new_arr"
      ],
      "metadata": {
        "colab": {
          "base_uri": "https://localhost:8080/"
        },
        "id": "P4avKFkYBQim",
        "outputId": "3303397f-0de1-4675-ab75-e85455b2398b"
      },
      "execution_count": 123,
      "outputs": [
        {
          "output_type": "execute_result",
          "data": {
            "text/plain": [
              "array([1., 3., 4.])"
            ]
          },
          "metadata": {},
          "execution_count": 123
        }
      ]
    },
    {
      "cell_type": "code",
      "source": [
        "new_arr.dtype"
      ],
      "metadata": {
        "colab": {
          "base_uri": "https://localhost:8080/"
        },
        "id": "LOqEa2z9BeDd",
        "outputId": "b86fd0d4-4a79-4e6c-e46a-ce757dd1970f"
      },
      "execution_count": 124,
      "outputs": [
        {
          "output_type": "execute_result",
          "data": {
            "text/plain": [
              "dtype('float64')"
            ]
          },
          "metadata": {},
          "execution_count": 124
        }
      ]
    },
    {
      "cell_type": "markdown",
      "source": [
        "#Arary Re-shaping -------->Re-shape, Ravel, Flatten"
      ],
      "metadata": {
        "id": "iU4GVjEBDPob"
      }
    },
    {
      "cell_type": "code",
      "source": [
        "\n",
        "\n",
        "arr = np.array([1, 2, 3, 4, 5, 6])\n",
        "\n",
        "reshaped = arr.reshape(2, 3)\n",
        "reshaped\n",
        "\n"
      ],
      "metadata": {
        "colab": {
          "base_uri": "https://localhost:8080/"
        },
        "id": "EG3H4SABBjdl",
        "outputId": "a7181a79-40fc-4682-aa82-930831159f30"
      },
      "execution_count": 125,
      "outputs": [
        {
          "output_type": "execute_result",
          "data": {
            "text/plain": [
              "array([[1, 2, 3],\n",
              "       [4, 5, 6]])"
            ]
          },
          "metadata": {},
          "execution_count": 125
        }
      ]
    },
    {
      "cell_type": "code",
      "source": [
        "arr = np.array([[1, 2, 3], [4, 5, 6]])\n",
        "\n",
        "r = arr.ravel()\n",
        "print(\"Original:\\n\", arr)\n",
        "print(\"Raveled:\", r)\n",
        "\n",
        "# Change element in ravel\n",
        "r[0] = 99\n",
        "print(\"After change, Original:\\n\", arr)\n"
      ],
      "metadata": {
        "colab": {
          "base_uri": "https://localhost:8080/"
        },
        "id": "B9Vm9s5JOpWU",
        "outputId": "1ed32497-3435-4396-b1a3-a392db52c815"
      },
      "execution_count": 126,
      "outputs": [
        {
          "output_type": "stream",
          "name": "stdout",
          "text": [
            "Original:\n",
            " [[1 2 3]\n",
            " [4 5 6]]\n",
            "Raveled: [1 2 3 4 5 6]\n",
            "After change, Original:\n",
            " [[99  2  3]\n",
            " [ 4  5  6]]\n"
          ]
        }
      ]
    },
    {
      "cell_type": "code",
      "source": [
        "arr = np.array([[1, 2, 3], [4, 5, 6]])\n",
        "\n",
        "f = arr.flatten()\n",
        "print(\"Flattened:\", f)\n",
        "\n",
        "# Change element in flatten\n",
        "f[0] = 99\n",
        "print(\"After change, Flattened:\", f)\n",
        "print(\"Original:\\n\", arr)\n"
      ],
      "metadata": {
        "colab": {
          "base_uri": "https://localhost:8080/"
        },
        "id": "V20OqAt0O8sU",
        "outputId": "2dcf1992-2bc7-4e5e-a398-055372ded767"
      },
      "execution_count": 127,
      "outputs": [
        {
          "output_type": "stream",
          "name": "stdout",
          "text": [
            "Flattened: [1 2 3 4 5 6]\n",
            "After change, Flattened: [99  2  3  4  5  6]\n",
            "Original:\n",
            " [[1 2 3]\n",
            " [4 5 6]]\n"
          ]
        }
      ]
    },
    {
      "cell_type": "markdown",
      "source": [
        "#Arithmetic operation\n"
      ],
      "metadata": {
        "id": "BJGBMGJ4PIhB"
      }
    },
    {
      "cell_type": "code",
      "source": [
        "a = np.array([1,2,3])\n",
        "b = np.array([4,5,6])\n"
      ],
      "metadata": {
        "id": "9HJy-elqPIRR"
      },
      "execution_count": 128,
      "outputs": []
    },
    {
      "cell_type": "code",
      "source": [
        "print(a+b)"
      ],
      "metadata": {
        "colab": {
          "base_uri": "https://localhost:8080/"
        },
        "id": "AqHS3KJxP7za",
        "outputId": "f6c46956-2f80-47ee-ba8f-f51d4805e509"
      },
      "execution_count": 129,
      "outputs": [
        {
          "output_type": "stream",
          "name": "stdout",
          "text": [
            "[5 7 9]\n"
          ]
        }
      ]
    },
    {
      "cell_type": "code",
      "source": [
        "print(a-b)"
      ],
      "metadata": {
        "colab": {
          "base_uri": "https://localhost:8080/"
        },
        "id": "FKnkzInnP-PY",
        "outputId": "a7459b7e-1214-425b-8034-0245fa23e584"
      },
      "execution_count": 130,
      "outputs": [
        {
          "output_type": "stream",
          "name": "stdout",
          "text": [
            "[-3 -3 -3]\n"
          ]
        }
      ]
    },
    {
      "cell_type": "code",
      "source": [
        "print(b-a)"
      ],
      "metadata": {
        "colab": {
          "base_uri": "https://localhost:8080/"
        },
        "id": "afb0h5YUQCdY",
        "outputId": "4c16f355-5d9c-4030-c008-dbded8a3b49c"
      },
      "execution_count": 131,
      "outputs": [
        {
          "output_type": "stream",
          "name": "stdout",
          "text": [
            "[3 3 3]\n"
          ]
        }
      ]
    },
    {
      "cell_type": "code",
      "source": [
        "print(a/b) # // for int division"
      ],
      "metadata": {
        "colab": {
          "base_uri": "https://localhost:8080/"
        },
        "id": "MIf9GJEtQFU4",
        "outputId": "0f554ff4-50fe-4b9d-9083-751db07ec968"
      },
      "execution_count": 132,
      "outputs": [
        {
          "output_type": "stream",
          "name": "stdout",
          "text": [
            "[0.25 0.4  0.5 ]\n"
          ]
        }
      ]
    },
    {
      "cell_type": "code",
      "source": [
        "print(a*b)"
      ],
      "metadata": {
        "colab": {
          "base_uri": "https://localhost:8080/"
        },
        "id": "b1sy_eAzQJoH",
        "outputId": "d76a254e-3bcb-4ea8-ebce-b996edde71aa"
      },
      "execution_count": 133,
      "outputs": [
        {
          "output_type": "stream",
          "name": "stdout",
          "text": [
            "[ 4 10 18]\n"
          ]
        }
      ]
    },
    {
      "cell_type": "code",
      "source": [
        "# reminder\n",
        "print(b%a)"
      ],
      "metadata": {
        "colab": {
          "base_uri": "https://localhost:8080/"
        },
        "id": "ZvHEpz4ZQMz4",
        "outputId": "39c9ab8a-78ee-4590-a48f-395a0ec47a6c"
      },
      "execution_count": 134,
      "outputs": [
        {
          "output_type": "stream",
          "name": "stdout",
          "text": [
            "[0 1 0]\n"
          ]
        }
      ]
    },
    {
      "cell_type": "code",
      "source": [
        "#exponent ->  power\n",
        "print(a**b)"
      ],
      "metadata": {
        "colab": {
          "base_uri": "https://localhost:8080/"
        },
        "id": "82tOUUx6Q0Xv",
        "outputId": "b17cc063-d949-4957-d83a-554c5d4a92fa"
      },
      "execution_count": 135,
      "outputs": [
        {
          "output_type": "stream",
          "name": "stdout",
          "text": [
            "[  1  32 729]\n"
          ]
        }
      ]
    },
    {
      "cell_type": "code",
      "source": [],
      "metadata": {
        "id": "jJup4IYdRFE_"
      },
      "execution_count": 135,
      "outputs": []
    },
    {
      "cell_type": "markdown",
      "source": [
        "# universal fuction -----> ufuncs\n",
        "\n",
        "\n",
        "---\n",
        "\n"
      ],
      "metadata": {
        "id": "3pCtDEyCTwD3"
      }
    },
    {
      "cell_type": "code",
      "source": [
        "arr = np.array([1,4,9,16])\n"
      ],
      "metadata": {
        "id": "sxoxPDnCT1zk"
      },
      "execution_count": 136,
      "outputs": []
    },
    {
      "cell_type": "code",
      "source": [
        "#square root -->n.sqrt()\n",
        "print(np.sqrt(arr))"
      ],
      "metadata": {
        "id": "OjScmImvUTHW",
        "colab": {
          "base_uri": "https://localhost:8080/"
        },
        "outputId": "098a5748-580d-4c80-b8ba-6f192c452016"
      },
      "execution_count": 137,
      "outputs": [
        {
          "output_type": "stream",
          "name": "stdout",
          "text": [
            "[1. 2. 3. 4.]\n"
          ]
        }
      ]
    },
    {
      "cell_type": "code",
      "source": [
        "#exponential --> np.exp-->e^x\n",
        "print(np.exp([1,2]))"
      ],
      "metadata": {
        "colab": {
          "base_uri": "https://localhost:8080/"
        },
        "id": "GN8E9ao_VF7T",
        "outputId": "00e1a4a0-c35c-4a33-d7da-effa46f7b33a"
      },
      "execution_count": 138,
      "outputs": [
        {
          "output_type": "stream",
          "name": "stdout",
          "text": [
            "[2.71828183 7.3890561 ]\n"
          ]
        }
      ]
    },
    {
      "cell_type": "code",
      "source": [
        "#sine function\n",
        "\n",
        "angles = np.array([0,np.pi/2,np.pi])\n",
        "print(np.sin(angles))"
      ],
      "metadata": {
        "colab": {
          "base_uri": "https://localhost:8080/"
        },
        "id": "CR6N47OdVgiM",
        "outputId": "62a83430-3001-47bd-d2fa-60d932200df3"
      },
      "execution_count": 139,
      "outputs": [
        {
          "output_type": "stream",
          "name": "stdout",
          "text": [
            "[0.0000000e+00 1.0000000e+00 1.2246468e-16]\n"
          ]
        }
      ]
    },
    {
      "cell_type": "markdown",
      "source": [
        "#indexing and  scilicing"
      ],
      "metadata": {
        "id": "BuRSROvIWlya"
      }
    },
    {
      "cell_type": "code",
      "source": [
        "# neg indexing\n",
        "a = [1,2,3,4,5]\n"
      ],
      "metadata": {
        "id": "XCV3eqcaWfP6"
      },
      "execution_count": 140,
      "outputs": []
    },
    {
      "cell_type": "code",
      "source": [
        "a[-1:-4:  -1]  #last -1 help to print neg indexing otherwise print the empty set"
      ],
      "metadata": {
        "colab": {
          "base_uri": "https://localhost:8080/"
        },
        "id": "RC6_BF5ChV5K",
        "outputId": "8acb4fb1-b152-48c2-b4ed-41e077b44084"
      },
      "execution_count": 141,
      "outputs": [
        {
          "output_type": "execute_result",
          "data": {
            "text/plain": [
              "[5, 4, 3]"
            ]
          },
          "metadata": {},
          "execution_count": 141
        }
      ]
    },
    {
      "cell_type": "code",
      "source": [
        "a[: : 2] # skip value"
      ],
      "metadata": {
        "colab": {
          "base_uri": "https://localhost:8080/"
        },
        "id": "OeWTAQdAhb2K",
        "outputId": "2800f515-1e81-434b-8639-3969f0ab6a86"
      },
      "execution_count": 142,
      "outputs": [
        {
          "output_type": "execute_result",
          "data": {
            "text/plain": [
              "[1, 3, 5]"
            ]
          },
          "metadata": {},
          "execution_count": 142
        }
      ]
    },
    {
      "cell_type": "code",
      "source": [
        "#applied in numpy array\n",
        "arr = np.array([1,2,3,4,5,6,7])\n",
        "arr[ : : 2]"
      ],
      "metadata": {
        "colab": {
          "base_uri": "https://localhost:8080/"
        },
        "id": "PuQj3rjxiD5C",
        "outputId": "8ff41c38-d0d8-4a8d-f7a9-55fc554bfdcc"
      },
      "execution_count": 143,
      "outputs": [
        {
          "output_type": "execute_result",
          "data": {
            "text/plain": [
              "array([1, 3, 5, 7])"
            ]
          },
          "metadata": {},
          "execution_count": 143
        }
      ]
    },
    {
      "cell_type": "code",
      "source": [
        "# neg indexing\n",
        "print(arr[-2])\n"
      ],
      "metadata": {
        "colab": {
          "base_uri": "https://localhost:8080/"
        },
        "id": "Rn9xe0_CihUx",
        "outputId": "39afd28f-2b2b-42fd-df0d-264eb7a80d53"
      },
      "execution_count": 144,
      "outputs": [
        {
          "output_type": "stream",
          "name": "stdout",
          "text": [
            "6\n"
          ]
        }
      ]
    },
    {
      "cell_type": "markdown",
      "source": [
        "#multi dim arry slicinf"
      ],
      "metadata": {
        "id": "VhiKFo-ijC_Q"
      }
    },
    {
      "cell_type": "code",
      "source": [
        "matrix =  np.array([\n",
        "    [1,2,3],[4,5,6],[7,8,9]\n",
        "])"
      ],
      "metadata": {
        "id": "ySJMjkFsiy-9"
      },
      "execution_count": 145,
      "outputs": []
    },
    {
      "cell_type": "code",
      "source": [
        "print(matrix[1:3 , 1:3])"
      ],
      "metadata": {
        "colab": {
          "base_uri": "https://localhost:8080/"
        },
        "id": "XXnPIk_fjY6Y",
        "outputId": "c386ea54-4cba-46ba-d7e3-5562f7dfa9ad"
      },
      "execution_count": 146,
      "outputs": [
        {
          "output_type": "stream",
          "name": "stdout",
          "text": [
            "[[5 6]\n",
            " [8 9]]\n"
          ]
        }
      ]
    },
    {
      "cell_type": "code",
      "source": [
        "#Advance indexing ---->Build in function to perfoem indexing and sclicing\n",
        "arr = np.array([1,2,3,4,5,6,7])\n",
        "a = [0,2]\n",
        "print(np.take(arr,a))"
      ],
      "metadata": {
        "colab": {
          "base_uri": "https://localhost:8080/"
        },
        "id": "-oFnwdjDjcPJ",
        "outputId": "feae7a5b-b612-4aca-e09f-af6d570c3368"
      },
      "execution_count": 147,
      "outputs": [
        {
          "output_type": "stream",
          "name": "stdout",
          "text": [
            "[1 3]\n"
          ]
        }
      ]
    },
    {
      "cell_type": "markdown",
      "source": [
        "#Iterating with nditer"
      ],
      "metadata": {
        "id": "BfldmNMOmhFH"
      }
    },
    {
      "cell_type": "code",
      "source": [
        "arr =([\n",
        "    [1,2], [3,4]\n",
        "])\n"
      ],
      "metadata": {
        "id": "6x1bAb-3mZ-O"
      },
      "execution_count": 148,
      "outputs": []
    },
    {
      "cell_type": "code",
      "source": [
        "for x in np.nditer(arr):\n",
        "  print(x, end = \" \")"
      ],
      "metadata": {
        "colab": {
          "base_uri": "https://localhost:8080/"
        },
        "id": "417Y8xn7m_vt",
        "outputId": "b6ab3abd-c23c-4f9a-c357-bcebf52d1afe"
      },
      "execution_count": 149,
      "outputs": [
        {
          "output_type": "stream",
          "name": "stdout",
          "text": [
            "(array(1), array(3)) (array(2), array(4)) "
          ]
        }
      ]
    },
    {
      "cell_type": "markdown",
      "source": [
        "#views vs Copy"
      ],
      "metadata": {
        "id": "7t6ridAcp5ml"
      }
    },
    {
      "cell_type": "code",
      "source": [
        "arr = np.array([1,2,3,4,5,6])\n",
        "view = arr[1:6]    # when we cnanges view is[3]----its range will effect\n",
        "\n",
        "view\n"
      ],
      "metadata": {
        "id": "SEIZfaQEnYR1",
        "colab": {
          "base_uri": "https://localhost:8080/"
        },
        "outputId": "1b08a441-eefc-40f9-9d1b-8c6f7ef4e0dd"
      },
      "execution_count": 150,
      "outputs": [
        {
          "output_type": "execute_result",
          "data": {
            "text/plain": [
              "array([2, 3, 4, 5, 6])"
            ]
          },
          "metadata": {},
          "execution_count": 150
        }
      ]
    },
    {
      "cell_type": "code",
      "source": [
        "view[2] = 200"
      ],
      "metadata": {
        "id": "GkfmuNflu6HA"
      },
      "execution_count": 151,
      "outputs": []
    },
    {
      "cell_type": "code",
      "source": [
        "arr"
      ],
      "metadata": {
        "colab": {
          "base_uri": "https://localhost:8080/"
        },
        "id": "7ph11R7evDdY",
        "outputId": "cbc61e5c-f58c-4e06-bebe-0af0f1a8fb2b"
      },
      "execution_count": 152,
      "outputs": [
        {
          "output_type": "execute_result",
          "data": {
            "text/plain": [
              "array([  1,   2,   3, 200,   5,   6])"
            ]
          },
          "metadata": {},
          "execution_count": 152
        }
      ]
    },
    {
      "cell_type": "code",
      "source": [
        "copy = arr[1:3].copy()\n",
        "copy"
      ],
      "metadata": {
        "id": "-nwu44ELvL3Q",
        "colab": {
          "base_uri": "https://localhost:8080/"
        },
        "outputId": "3069003b-310c-4e65-e0ba-dcc8ff7323dc"
      },
      "execution_count": 153,
      "outputs": [
        {
          "output_type": "execute_result",
          "data": {
            "text/plain": [
              "array([2, 3])"
            ]
          },
          "metadata": {},
          "execution_count": 153
        }
      ]
    },
    {
      "cell_type": "markdown",
      "source": [
        "#Transpose"
      ],
      "metadata": {
        "id": "g4g_iDk8TVHQ"
      }
    },
    {
      "cell_type": "code",
      "source": [
        "arr  = np.array([[1,3],[4,5]])\n",
        "arr"
      ],
      "metadata": {
        "colab": {
          "base_uri": "https://localhost:8080/"
        },
        "id": "OM-qr3-QTNIZ",
        "outputId": "528f55fa-1171-489d-8961-64916b376093"
      },
      "execution_count": 154,
      "outputs": [
        {
          "output_type": "execute_result",
          "data": {
            "text/plain": [
              "array([[1, 3],\n",
              "       [4, 5]])"
            ]
          },
          "metadata": {},
          "execution_count": 154
        }
      ]
    },
    {
      "cell_type": "code",
      "source": [
        "print(arr.transpose())"
      ],
      "metadata": {
        "colab": {
          "base_uri": "https://localhost:8080/"
        },
        "id": "C88MzemtT2HX",
        "outputId": "eb9f3b63-e96d-40aa-f594-f7403dbef122"
      },
      "execution_count": 155,
      "outputs": [
        {
          "output_type": "stream",
          "name": "stdout",
          "text": [
            "[[1 4]\n",
            " [3 5]]\n"
          ]
        }
      ]
    },
    {
      "cell_type": "markdown",
      "source": [
        "#swapaxes--> swap 2 specific access"
      ],
      "metadata": {
        "id": "-JLHx9BPUA97"
      }
    },
    {
      "cell_type": "code",
      "source": [
        "arr = np.array([[[1,2],[3,4]]])\n",
        "arr.shape"
      ],
      "metadata": {
        "colab": {
          "base_uri": "https://localhost:8080/"
        },
        "id": "jTPitQ8tT9hW",
        "outputId": "bc98d7aa-5aa4-4eeb-c848-86040e6de334"
      },
      "execution_count": 156,
      "outputs": [
        {
          "output_type": "execute_result",
          "data": {
            "text/plain": [
              "(1, 2, 2)"
            ]
          },
          "metadata": {},
          "execution_count": 156
        }
      ]
    },
    {
      "cell_type": "code",
      "source": [
        "swap = np.swapaxes(arr,0,1)\n",
        "swap.shape"
      ],
      "metadata": {
        "colab": {
          "base_uri": "https://localhost:8080/"
        },
        "id": "3mcGgkiCUY8_",
        "outputId": "7e59e3fb-b260-4b67-b570-127c9d22ea44"
      },
      "execution_count": 157,
      "outputs": [
        {
          "output_type": "execute_result",
          "data": {
            "text/plain": [
              "(2, 1, 2)"
            ]
          },
          "metadata": {},
          "execution_count": 157
        }
      ]
    },
    {
      "cell_type": "markdown",
      "source": [
        "#concatenation"
      ],
      "metadata": {
        "id": "ucX1QivxVRyp"
      }
    },
    {
      "cell_type": "code",
      "source": [
        "a = np.array([2,4])\n",
        "b = np.array([5,6])\n",
        "\n"
      ],
      "metadata": {
        "id": "vGUnQmXOVENG"
      },
      "execution_count": 158,
      "outputs": []
    },
    {
      "cell_type": "code",
      "source": [
        "combine = np.concatenate((a,b))\n",
        "combine"
      ],
      "metadata": {
        "colab": {
          "base_uri": "https://localhost:8080/"
        },
        "id": "s0eh2vV7ZZIy",
        "outputId": "7c30ca7d-d0bf-4b84-baac-cf4e506530f9"
      },
      "execution_count": 159,
      "outputs": [
        {
          "output_type": "execute_result",
          "data": {
            "text/plain": [
              "array([2, 4, 5, 6])"
            ]
          },
          "metadata": {},
          "execution_count": 159
        }
      ]
    },
    {
      "cell_type": "code",
      "source": [
        "# v starck -other way o omplement (vertical stack)\n",
        "arr1  = np.array([[1,2], [3,4]])\n",
        "arr2  = np.array([[5,6], [7,8]])\n"
      ],
      "metadata": {
        "id": "GYTVvAz5ZjmC"
      },
      "execution_count": 160,
      "outputs": []
    },
    {
      "cell_type": "code",
      "source": [
        "print(np.vstack((arr1,arr2)))"
      ],
      "metadata": {
        "colab": {
          "base_uri": "https://localhost:8080/"
        },
        "id": "yKyUyHfSaJHq",
        "outputId": "9fbaa2e4-5493-4061-b7ca-4cdfc283d48b"
      },
      "execution_count": 161,
      "outputs": [
        {
          "output_type": "stream",
          "name": "stdout",
          "text": [
            "[[1 2]\n",
            " [3 4]\n",
            " [5 6]\n",
            " [7 8]]\n"
          ]
        }
      ]
    },
    {
      "cell_type": "code",
      "source": [
        "#h stack-------(horizontal stack )\n",
        "print(np.hstack((arr1,arr2)))\n"
      ],
      "metadata": {
        "id": "dwoArsj4a6qB",
        "colab": {
          "base_uri": "https://localhost:8080/"
        },
        "outputId": "1f3f2108-696b-40b1-e114-235ec7adfece"
      },
      "execution_count": 162,
      "outputs": [
        {
          "output_type": "stream",
          "name": "stdout",
          "text": [
            "[[1 2 5 6]\n",
            " [3 4 7 8]]\n"
          ]
        }
      ]
    },
    {
      "cell_type": "code",
      "source": [
        "print(np.stack((arr1,arr2), axis = 0))  #row wise"
      ],
      "metadata": {
        "colab": {
          "base_uri": "https://localhost:8080/"
        },
        "id": "P9wgOsV-dN45",
        "outputId": "ce0271bc-2c83-4a43-baf6-7755b64edcf1"
      },
      "execution_count": 163,
      "outputs": [
        {
          "output_type": "stream",
          "name": "stdout",
          "text": [
            "[[[1 2]\n",
            "  [3 4]]\n",
            "\n",
            " [[5 6]\n",
            "  [7 8]]]\n"
          ]
        }
      ]
    },
    {
      "cell_type": "code",
      "source": [
        "print(np.stack((arr1,arr2), axis = 1))    #  join coloumn wise"
      ],
      "metadata": {
        "colab": {
          "base_uri": "https://localhost:8080/"
        },
        "id": "JrmCUSyVdrs_",
        "outputId": "a8de31e4-f94c-45c5-d52a-f5077b60f18c"
      },
      "execution_count": 164,
      "outputs": [
        {
          "output_type": "stream",
          "name": "stdout",
          "text": [
            "[[[1 2]\n",
            "  [5 6]]\n",
            "\n",
            " [[3 4]\n",
            "  [7 8]]]\n"
          ]
        }
      ]
    },
    {
      "cell_type": "code",
      "source": [
        "#Repeating :\n",
        "arr =  np.array([1,2,3])\n",
        "print(np.repeat(arr,2))"
      ],
      "metadata": {
        "id": "rgxaiC8rd8aP",
        "colab": {
          "base_uri": "https://localhost:8080/"
        },
        "outputId": "35e9fc7f-3daf-45d3-f1d8-73309bf5e1cd"
      },
      "execution_count": 165,
      "outputs": [
        {
          "output_type": "stream",
          "name": "stdout",
          "text": [
            "[1 1 2 2 3 3]\n"
          ]
        }
      ]
    },
    {
      "cell_type": "code",
      "source": [
        "#tile----repeating whole array\n",
        "print(np.tile(arr,3))"
      ],
      "metadata": {
        "colab": {
          "base_uri": "https://localhost:8080/"
        },
        "id": "5cJBFK6hC8F5",
        "outputId": "f8688a72-1557-4d58-ae44-590887d736ce"
      },
      "execution_count": 166,
      "outputs": [
        {
          "output_type": "stream",
          "name": "stdout",
          "text": [
            "[1 2 3 1 2 3 1 2 3]\n"
          ]
        }
      ]
    },
    {
      "cell_type": "code",
      "source": [
        "#Aggregate function\n",
        "arr = np.array([1,2,3])\n",
        "print(np.sum(arr))"
      ],
      "metadata": {
        "colab": {
          "base_uri": "https://localhost:8080/"
        },
        "id": "TM3bC2wWGjBN",
        "outputId": "887b9100-fc94-4202-95d3-9fec249877eb"
      },
      "execution_count": 167,
      "outputs": [
        {
          "output_type": "stream",
          "name": "stdout",
          "text": [
            "6\n"
          ]
        }
      ]
    },
    {
      "cell_type": "code",
      "source": [
        "np.mean(arr)"
      ],
      "metadata": {
        "colab": {
          "base_uri": "https://localhost:8080/"
        },
        "id": "JtdpKx1PHF-k",
        "outputId": "8b272a6b-71f8-44e1-b19f-6e69cc8a4e31"
      },
      "execution_count": 168,
      "outputs": [
        {
          "output_type": "execute_result",
          "data": {
            "text/plain": [
              "np.float64(2.0)"
            ]
          },
          "metadata": {},
          "execution_count": 168
        }
      ]
    },
    {
      "cell_type": "code",
      "source": [
        "np.median(arr)"
      ],
      "metadata": {
        "colab": {
          "base_uri": "https://localhost:8080/"
        },
        "id": "NffBVL89HLyy",
        "outputId": "464014f0-4c1b-47f8-d928-99bb7e4b9104"
      },
      "execution_count": 169,
      "outputs": [
        {
          "output_type": "execute_result",
          "data": {
            "text/plain": [
              "np.float64(2.0)"
            ]
          },
          "metadata": {},
          "execution_count": 169
        }
      ]
    },
    {
      "cell_type": "code",
      "source": [
        "#standard division\n",
        "np.std(arr)"
      ],
      "metadata": {
        "colab": {
          "base_uri": "https://localhost:8080/"
        },
        "id": "Od9BUkoRHTxa",
        "outputId": "a00a20a1-fcf3-4a12-a0dc-ce7fb5544a84"
      },
      "execution_count": 170,
      "outputs": [
        {
          "output_type": "execute_result",
          "data": {
            "text/plain": [
              "np.float64(0.816496580927726)"
            ]
          },
          "metadata": {},
          "execution_count": 170
        }
      ]
    },
    {
      "cell_type": "code",
      "source": [
        "#variance\n",
        "np.var(arr)"
      ],
      "metadata": {
        "colab": {
          "base_uri": "https://localhost:8080/"
        },
        "id": "hd4kxpHpHf05",
        "outputId": "a8b4f019-38d5-4a1c-e0ee-0a23f12a90dd"
      },
      "execution_count": 171,
      "outputs": [
        {
          "output_type": "execute_result",
          "data": {
            "text/plain": [
              "np.float64(0.6666666666666666)"
            ]
          },
          "metadata": {},
          "execution_count": 171
        }
      ]
    },
    {
      "cell_type": "code",
      "source": [
        "np.min(arr)"
      ],
      "metadata": {
        "colab": {
          "base_uri": "https://localhost:8080/"
        },
        "id": "nw5gq5tsHuEj",
        "outputId": "0fc84ae4-0df4-4d83-ea9e-08b3384b6418"
      },
      "execution_count": 172,
      "outputs": [
        {
          "output_type": "execute_result",
          "data": {
            "text/plain": [
              "np.int64(1)"
            ]
          },
          "metadata": {},
          "execution_count": 172
        }
      ]
    },
    {
      "cell_type": "code",
      "source": [
        "np.max(arr)"
      ],
      "metadata": {
        "colab": {
          "base_uri": "https://localhost:8080/"
        },
        "id": "MwvGCDdcJmJg",
        "outputId": "90360a64-a678-439e-b0a4-8f4a9ebb11b5"
      },
      "execution_count": 173,
      "outputs": [
        {
          "output_type": "execute_result",
          "data": {
            "text/plain": [
              "np.int64(3)"
            ]
          },
          "metadata": {},
          "execution_count": 173
        }
      ]
    },
    {
      "cell_type": "code",
      "source": [
        "matrix"
      ],
      "metadata": {
        "colab": {
          "base_uri": "https://localhost:8080/"
        },
        "id": "U6lw5ByKJqin",
        "outputId": "f1594c86-83b6-42be-afa3-d1e3969dbc36"
      },
      "execution_count": 174,
      "outputs": [
        {
          "output_type": "execute_result",
          "data": {
            "text/plain": [
              "array([[1, 2, 3],\n",
              "       [4, 5, 6],\n",
              "       [7, 8, 9]])"
            ]
          },
          "metadata": {},
          "execution_count": 174
        }
      ]
    },
    {
      "cell_type": "code",
      "source": [
        "#sum column wise or row wise\n",
        "print(np.sum(matrix, axis = 0)) #row sum\n",
        "print(np.sum(matrix, axis = 1)) #coloumn sum"
      ],
      "metadata": {
        "colab": {
          "base_uri": "https://localhost:8080/"
        },
        "id": "9uD6rz8aK2B_",
        "outputId": "2b84effd-460f-4d94-e207-fa58d3c0a078"
      },
      "execution_count": 175,
      "outputs": [
        {
          "output_type": "stream",
          "name": "stdout",
          "text": [
            "[12 15 18]\n",
            "[ 6 15 24]\n"
          ]
        }
      ]
    },
    {
      "cell_type": "code",
      "source": [
        "#cumulative operation -----> runing total\n",
        "arr\n"
      ],
      "metadata": {
        "colab": {
          "base_uri": "https://localhost:8080/"
        },
        "id": "5xxXUJGBLR2F",
        "outputId": "e9be5bb9-fc8a-4511-be2a-346d1b0899fe"
      },
      "execution_count": 176,
      "outputs": [
        {
          "output_type": "execute_result",
          "data": {
            "text/plain": [
              "array([1, 2, 3])"
            ]
          },
          "metadata": {},
          "execution_count": 176
        }
      ]
    },
    {
      "cell_type": "code",
      "source": [
        "print(np.cumsum(arr))"
      ],
      "metadata": {
        "colab": {
          "base_uri": "https://localhost:8080/"
        },
        "id": "XeilWn_qL69M",
        "outputId": "fb9d8387-abca-4ab8-8e8a-786fbd69590e"
      },
      "execution_count": 177,
      "outputs": [
        {
          "output_type": "stream",
          "name": "stdout",
          "text": [
            "[1 3 6]\n"
          ]
        }
      ]
    },
    {
      "cell_type": "code",
      "source": [
        "print(np.cumprod(arr))# 1, 1*2=2, 1*2*3=6"
      ],
      "metadata": {
        "colab": {
          "base_uri": "https://localhost:8080/"
        },
        "id": "VeUVBDkzMDbE",
        "outputId": "41097a5b-eb7b-4965-d2da-d657ac814071"
      },
      "execution_count": 178,
      "outputs": [
        {
          "output_type": "stream",
          "name": "stdout",
          "text": [
            "[1 2 6]\n"
          ]
        }
      ]
    },
    {
      "cell_type": "code",
      "source": [
        "#where\n",
        "arr"
      ],
      "metadata": {
        "colab": {
          "base_uri": "https://localhost:8080/"
        },
        "id": "LX3V-MHKMRGr",
        "outputId": "80739090-fae2-4ebd-fa24-acddb32f6c8e"
      },
      "execution_count": 179,
      "outputs": [
        {
          "output_type": "execute_result",
          "data": {
            "text/plain": [
              "array([1, 2, 3])"
            ]
          },
          "metadata": {},
          "execution_count": 179
        }
      ]
    },
    {
      "cell_type": "code",
      "source": [
        "result = np.where(arr < 2, \"low\", \"high\")"
      ],
      "metadata": {
        "id": "K8pekqtiNG8i"
      },
      "execution_count": 180,
      "outputs": []
    },
    {
      "cell_type": "code",
      "source": [
        "result"
      ],
      "metadata": {
        "colab": {
          "base_uri": "https://localhost:8080/"
        },
        "id": "1jW-FLLhNgui",
        "outputId": "c82502e7-2f90-4fd3-fb12-2741f91eb2c1"
      },
      "execution_count": 181,
      "outputs": [
        {
          "output_type": "execute_result",
          "data": {
            "text/plain": [
              "array(['low', 'high', 'high'], dtype='<U4')"
            ]
          },
          "metadata": {},
          "execution_count": 181
        }
      ]
    },
    {
      "cell_type": "code",
      "source": [
        "#logical and\n",
        "arr = np.array([100,2,3,4,5,6])"
      ],
      "metadata": {
        "id": "RC0C7o50Nigp"
      },
      "execution_count": 182,
      "outputs": []
    },
    {
      "cell_type": "code",
      "source": [
        "arr"
      ],
      "metadata": {
        "colab": {
          "base_uri": "https://localhost:8080/"
        },
        "id": "nO1rTHUdOYzQ",
        "outputId": "15a3794d-7310-4b75-9acd-6c3ffcce03ae"
      },
      "execution_count": 183,
      "outputs": [
        {
          "output_type": "execute_result",
          "data": {
            "text/plain": [
              "array([100,   2,   3,   4,   5,   6])"
            ]
          },
          "metadata": {},
          "execution_count": 183
        }
      ]
    },
    {
      "cell_type": "code",
      "source": [
        "mask = np.logical_and(arr > 3, arr < 6)"
      ],
      "metadata": {
        "id": "FQOxKUsiOasw"
      },
      "execution_count": 184,
      "outputs": []
    },
    {
      "cell_type": "code",
      "source": [
        "mask # 4 = true ,5= true otherwise false"
      ],
      "metadata": {
        "colab": {
          "base_uri": "https://localhost:8080/"
        },
        "id": "cRp6ymRzOtdQ",
        "outputId": "8f5d47c6-d7f7-464e-ff27-5a253ca8b7a9"
      },
      "execution_count": 185,
      "outputs": [
        {
          "output_type": "execute_result",
          "data": {
            "text/plain": [
              "array([False, False, False,  True,  True, False])"
            ]
          },
          "metadata": {},
          "execution_count": 185
        }
      ]
    },
    {
      "cell_type": "code",
      "source": [
        "arr[mask]"
      ],
      "metadata": {
        "colab": {
          "base_uri": "https://localhost:8080/"
        },
        "id": "6Fpk1aiIOvC_",
        "outputId": "4362c599-3c5c-4e6a-cceb-cc9f37bc42eb"
      },
      "execution_count": 186,
      "outputs": [
        {
          "output_type": "execute_result",
          "data": {
            "text/plain": [
              "array([4, 5])"
            ]
          },
          "metadata": {},
          "execution_count": 186
        }
      ]
    },
    {
      "cell_type": "code",
      "source": [
        "#logical or\n",
        "mask = np.logical_or(arr < 4, arr>5)"
      ],
      "metadata": {
        "id": "DP7ezUCjPBYI"
      },
      "execution_count": 187,
      "outputs": []
    },
    {
      "cell_type": "code",
      "source": [
        "mask"
      ],
      "metadata": {
        "colab": {
          "base_uri": "https://localhost:8080/"
        },
        "id": "lE9_3iMGPezf",
        "outputId": "0d551817-0a43-40bc-a497-590b3fcccc4e"
      },
      "execution_count": 188,
      "outputs": [
        {
          "output_type": "execute_result",
          "data": {
            "text/plain": [
              "array([ True,  True,  True, False, False,  True])"
            ]
          },
          "metadata": {},
          "execution_count": 188
        }
      ]
    },
    {
      "cell_type": "code",
      "source": [
        "arr[mask]"
      ],
      "metadata": {
        "colab": {
          "base_uri": "https://localhost:8080/"
        },
        "id": "v0ZR1uiuPgcP",
        "outputId": "fc9f6567-0335-42cc-c5e1-f4e1833ff52e"
      },
      "execution_count": 189,
      "outputs": [
        {
          "output_type": "execute_result",
          "data": {
            "text/plain": [
              "array([100,   2,   3,   6])"
            ]
          },
          "metadata": {},
          "execution_count": 189
        }
      ]
    },
    {
      "cell_type": "code",
      "source": [],
      "metadata": {
        "id": "rMDk0tzhPl6f"
      },
      "execution_count": 189,
      "outputs": []
    },
    {
      "cell_type": "markdown",
      "source": [
        "# Broadcasting"
      ],
      "metadata": {
        "id": "8g_JEI3LQ9Qw"
      }
    },
    {
      "cell_type": "code",
      "source": [
        "img = np.array([[200,250],[100,250]])\n",
        "img"
      ],
      "metadata": {
        "id": "nhSzoqx_RBPt",
        "colab": {
          "base_uri": "https://localhost:8080/"
        },
        "outputId": "1ca03413-8008-43f6-9161-5d52758c92d1"
      },
      "execution_count": 190,
      "outputs": [
        {
          "output_type": "execute_result",
          "data": {
            "text/plain": [
              "array([[200, 250],\n",
              "       [100, 250]])"
            ]
          },
          "metadata": {},
          "execution_count": 190
        }
      ]
    },
    {
      "cell_type": "code",
      "source": [
        "brightness = img + 100"
      ],
      "metadata": {
        "id": "CxR5uF93LF8i"
      },
      "execution_count": 191,
      "outputs": []
    },
    {
      "cell_type": "code",
      "source": [
        "brightness"
      ],
      "metadata": {
        "colab": {
          "base_uri": "https://localhost:8080/"
        },
        "id": "LW2zoXxfLTzY",
        "outputId": "de8bc3aa-dea9-48df-e369-ff596e1f77da"
      },
      "execution_count": 192,
      "outputs": [
        {
          "output_type": "execute_result",
          "data": {
            "text/plain": [
              "array([[300, 350],\n",
              "       [200, 350]])"
            ]
          },
          "metadata": {},
          "execution_count": 192
        }
      ]
    },
    {
      "cell_type": "code",
      "source": [
        "img.shape"
      ],
      "metadata": {
        "colab": {
          "base_uri": "https://localhost:8080/"
        },
        "id": "WGg7fMeoLVuQ",
        "outputId": "9bebcc50-9c43-41e4-b812-3d07312ff38e"
      },
      "execution_count": 193,
      "outputs": [
        {
          "output_type": "execute_result",
          "data": {
            "text/plain": [
              "(2, 2)"
            ]
          },
          "metadata": {},
          "execution_count": 193
        }
      ]
    },
    {
      "cell_type": "code",
      "source": [
        "brightness.shape"
      ],
      "metadata": {
        "colab": {
          "base_uri": "https://localhost:8080/"
        },
        "id": "Mm_OR-nELhMY",
        "outputId": "8be15324-7153-4c66-dbe4-6cac4c5c2daa"
      },
      "execution_count": 194,
      "outputs": [
        {
          "output_type": "execute_result",
          "data": {
            "text/plain": [
              "(2, 2)"
            ]
          },
          "metadata": {},
          "execution_count": 194
        }
      ]
    },
    {
      "cell_type": "code",
      "source": [
        "#vectorization\n",
        "# np.vertorize()------> convert a regular function to be applied on ana array\n"
      ],
      "metadata": {
        "id": "8sFWy26FLjgh"
      },
      "execution_count": 195,
      "outputs": []
    },
    {
      "cell_type": "code",
      "source": [
        "def square(x):\n",
        "  return x*x\n",
        "vfunc = np.vectorize(square)\n"
      ],
      "metadata": {
        "id": "aJys1xzIMWEo"
      },
      "execution_count": 196,
      "outputs": []
    },
    {
      "cell_type": "code",
      "source": [
        "arr"
      ],
      "metadata": {
        "colab": {
          "base_uri": "https://localhost:8080/"
        },
        "id": "JNtGSepcMtkn",
        "outputId": "8acc227c-607a-463e-9610-030e17154ad0"
      },
      "execution_count": 197,
      "outputs": [
        {
          "output_type": "execute_result",
          "data": {
            "text/plain": [
              "array([100,   2,   3,   4,   5,   6])"
            ]
          },
          "metadata": {},
          "execution_count": 197
        }
      ]
    },
    {
      "cell_type": "code",
      "source": [
        "print(vfunc(arr))"
      ],
      "metadata": {
        "colab": {
          "base_uri": "https://localhost:8080/"
        },
        "id": "Ib3Mwn94MxJ_",
        "outputId": "61217d96-5e8b-4bba-efeb-6753fae7901f"
      },
      "execution_count": 198,
      "outputs": [
        {
          "output_type": "stream",
          "name": "stdout",
          "text": [
            "[10000     4     9    16    25    36]\n"
          ]
        }
      ]
    },
    {
      "cell_type": "markdown",
      "source": [
        "#Dealing with missing values\n",
        "##  np.nan-----> not a number"
      ],
      "metadata": {
        "id": "npaTbkMINN2n"
      }
    },
    {
      "cell_type": "code",
      "source": [
        "a = np.array([1,2,np.nan,4])"
      ],
      "metadata": {
        "id": "XZl5nrZKNRM1"
      },
      "execution_count": 199,
      "outputs": []
    },
    {
      "cell_type": "code",
      "source": [
        "a"
      ],
      "metadata": {
        "colab": {
          "base_uri": "https://localhost:8080/"
        },
        "id": "wh1B76d-QeQy",
        "outputId": "dcc1ec56-1e5c-4173-9079-e527e4c4a44a"
      },
      "execution_count": 200,
      "outputs": [
        {
          "output_type": "execute_result",
          "data": {
            "text/plain": [
              "array([ 1.,  2., nan,  4.])"
            ]
          },
          "metadata": {},
          "execution_count": 200
        }
      ]
    },
    {
      "cell_type": "code",
      "source": [
        "# np.ing  and -np.inf------>possitive and neg infinite values\n",
        "# np.isnan\n",
        "# np.isinf\n",
        "# np.isfinite\n",
        "\n",
        "#--------> Used to the function to detect null values, infinite values and finite values"
      ],
      "metadata": {
        "id": "L8_UKFsHQe5B"
      },
      "execution_count": 201,
      "outputs": []
    },
    {
      "cell_type": "code",
      "source": [
        "print(np.isnan(a))"
      ],
      "metadata": {
        "colab": {
          "base_uri": "https://localhost:8080/"
        },
        "id": "5BX9X_2hQ9A5",
        "outputId": "58fa8b54-2289-4cfc-da1d-1a95abe0d747"
      },
      "execution_count": 202,
      "outputs": [
        {
          "output_type": "stream",
          "name": "stdout",
          "text": [
            "[False False  True False]\n"
          ]
        }
      ]
    },
    {
      "cell_type": "code",
      "source": [
        "print(np.isinf(a))"
      ],
      "metadata": {
        "colab": {
          "base_uri": "https://localhost:8080/"
        },
        "id": "6IkiKF0vR5zI",
        "outputId": "a6f4c5ff-523a-43df-d9e3-65ea78e092d2"
      },
      "execution_count": 203,
      "outputs": [
        {
          "output_type": "stream",
          "name": "stdout",
          "text": [
            "[False False False False]\n"
          ]
        }
      ]
    },
    {
      "cell_type": "code",
      "source": [
        "print(np.isfinite(a))"
      ],
      "metadata": {
        "colab": {
          "base_uri": "https://localhost:8080/"
        },
        "id": "MiTLnQZaSDno",
        "outputId": "cc354c18-b708-40be-d280-fb25588e17a7"
      },
      "execution_count": 204,
      "outputs": [
        {
          "output_type": "stream",
          "name": "stdout",
          "text": [
            "[ True  True False  True]\n"
          ]
        }
      ]
    },
    {
      "cell_type": "code",
      "source": [
        "b = np.array([1,2,3,np.inf,5])"
      ],
      "metadata": {
        "id": "MuaepRivSIDv"
      },
      "execution_count": 205,
      "outputs": []
    },
    {
      "cell_type": "code",
      "source": [
        "print(np.isinf(b))"
      ],
      "metadata": {
        "colab": {
          "base_uri": "https://localhost:8080/"
        },
        "id": "5KoSM8EfSdtf",
        "outputId": "ddcd54d1-add7-4125-e13e-fc2ea2623249"
      },
      "execution_count": 206,
      "outputs": [
        {
          "output_type": "stream",
          "name": "stdout",
          "text": [
            "[False False False  True False]\n"
          ]
        }
      ]
    },
    {
      "cell_type": "code",
      "source": [],
      "metadata": {
        "id": "ESBPgkQeShc3"
      },
      "execution_count": 206,
      "outputs": []
    }
  ]
}